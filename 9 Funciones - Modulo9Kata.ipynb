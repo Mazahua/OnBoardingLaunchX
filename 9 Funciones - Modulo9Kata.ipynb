{
 "cells": [
  {
   "cell_type": "code",
   "execution_count": 2,
   "metadata": {},
   "outputs": [
    {
     "name": "stdout",
     "output_type": "stream",
     "text": [
      "-> TANQUE N 1\n",
      "-> TANQUE N 2\n",
      "-> TANQUE N 3\n",
      "\n",
      "\n",
      "REPORTE DE TANQUES DE NAVE\n",
      "Promedio de combustible : 481.33\n",
      "---------------------------------\n",
      "El valor del tanque  1 -->  855\n",
      "El valor del tanque  2 -->  467\n",
      "El valor del tanque  3 -->  122\n",
      "-----------------------------------\n"
     ]
    }
   ],
   "source": [
    "#Ejercicio: Uso de funciones en Python\n",
    "#Ejercicio 1: Trabajar con argumentos en funciones\n",
    "\n",
    "# Función promedio\n",
    "def prom_tanques(valores):\n",
    "  return round((sum(valores))/(len(valores)), 2)\n",
    "\n",
    "#Funcion reporte\n",
    "\n",
    "\n",
    "def reporte_tankes(valores):\n",
    "  print(\"\\n\")\n",
    "  print(f'''REPORTE DE TANQUES DE NAVE\n",
    "Promedio de combustible : {prom_tanques(valores)}\n",
    "---------------------------------''')\n",
    "  for i in range(len(valores)):\n",
    "    print(\"El valor del tanque \", i+1, \"--> \", valores[i])\n",
    "  print(\"-\"*35)\n",
    "\n",
    "\n",
    "tanques = []\n",
    "ntnk = int(input(\"Cuantos tanques tiene tu nave : \"))\n",
    "for i in range(ntnk):\n",
    "  print(\"-> TANQUE N\", i+1)\n",
    "  aux = int(input(\"ingresa la cantidad de combustible del tanque :\"))\n",
    "  tanques.append(aux)\n",
    "\n",
    "reporte_tankes(tanques)\n"
   ]
  },
  {
   "cell_type": "code",
   "execution_count": 4,
   "metadata": {},
   "outputs": [
    {
     "name": "stdout",
     "output_type": "stream",
     "text": [
      "\n",
      "  =======INFORME DE MISION======\n",
      "  -----------------------------------------------------\n",
      "  El destino es -> Saturno\n",
      "  Con un tiempo estimado de 675 minutos\n",
      "  Con la siguiente cantidad combustible 182025 litros\n",
      "  -----------------------------------------------------\n",
      "  \n",
      "\n",
      "  =======INFORME DE MISION======\n",
      "  -----------------------------------------------------\n",
      "  El destino es -> Neptuno\n",
      "  Con un tiempo estimado de 6601 minutos\n",
      "  Con la siguiente cantidad combustible 212025 litros\n",
      "  -----------------------------------------------------\n",
      "  \n",
      "  Tanque externo tiene --> 125564 litros\n",
      "  \n",
      "  Tanque interno tiene --> 56461 litros\n",
      "  \n",
      "  Tanque respaldo tiene --> 30000 litros\n",
      "  \n"
     ]
    }
   ],
   "source": [
    "\n",
    "#Ejercicio 2: Trabajo con argumentos de palabra clave\n",
    "#Ejercicio : Trabajar con argumentos de palabras clave en funciones\n",
    "\n",
    "# Función con un informe preciso de la misión. Considera hora de prelanzamiento, tiempo de vuelo, destino, tanque externo y tanque interno\n",
    "\n",
    "def inf_misiion(h_prelan, t_vuelo, destino, tnk_ext, tnk_int):\n",
    "  return f'''\n",
    "  =======INFORME DE MISION======\n",
    "  -----------------------------------------------------\n",
    "  El destino es -> {destino}\n",
    "  Con un tiempo estimado de {h_prelan + t_vuelo} minutos\n",
    "  Con la siguiente cantidad combustible {tnk_ext + tnk_int} litros\n",
    "  -----------------------------------------------------\n",
    "  '''\n",
    "\n",
    "print(inf_misiion(25, 650, \"Saturno\", 125564, 56461))\n",
    "\n",
    "# funcion flexible considerando mas parametros en minutos y tanques \n",
    "# \n",
    "#  \n",
    "def inf_msision_v2(destino, *tiempos_min, **tanques_lit):\n",
    "  reporte_parcial = f'''\n",
    "  =======INFORME DE MISION======\n",
    "  -----------------------------------------------------\n",
    "  El destino es -> {destino}\n",
    "  Con un tiempo estimado de {sum(tiempos_min)} minutos\n",
    "  Con la siguiente cantidad combustible {sum(tanques_lit.values())} litros\n",
    "  -----------------------------------------------------\n",
    "  '''\n",
    "  for name, litros in tanques_lit.items():\n",
    "    reporte_parcial += f\"\"\"\n",
    "  Tanque {name} tiene --> {litros} litros\n",
    "  \"\"\"\n",
    "  return reporte_parcial\n",
    "\n",
    "\n",
    "print(inf_msision_v2(\"Neptuno\", 25, 6500, 30, 46, externo=125564, interno=56461, respaldo=30000))\n"
   ]
  },
  {
   "cell_type": "code",
   "execution_count": null,
   "metadata": {},
   "outputs": [],
   "source": []
  }
 ],
 "metadata": {
  "interpreter": {
   "hash": "b321a1742733a3639a8805f7479d4b5f956db4e917dde73bfe936e648e8f64c1"
  },
  "kernelspec": {
   "display_name": "Python 3.10.2 64-bit (windows store)",
   "language": "python",
   "name": "python3"
  },
  "language_info": {
   "codemirror_mode": {
    "name": "ipython",
    "version": 3
   },
   "file_extension": ".py",
   "mimetype": "text/x-python",
   "name": "python",
   "nbconvert_exporter": "python",
   "pygments_lexer": "ipython3",
   "version": "3.10.2"
  },
  "orig_nbformat": 4
 },
 "nbformat": 4,
 "nbformat_minor": 2
}
