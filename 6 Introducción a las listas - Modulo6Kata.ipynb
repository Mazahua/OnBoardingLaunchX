{
 "cells": [
  {
   "cell_type": "code",
   "execution_count": 10,
   "metadata": {},
   "outputs": [
    {
     "name": "stdout",
     "output_type": "stream",
     "text": [
      "A continuacion les mostramos los 8 planetas que conforman el sistema solar\n",
      "-  Mercurio\n",
      "-  Venus\n",
      "-  Tierra\n",
      "-  Marte\n",
      "-  Jupiter\n",
      "-  Saturo\n",
      "-  Urano\n",
      "-  Neptuno\n",
      "\n",
      "Tienes razon nos hemos olvidado de Pluton\n",
      "Ahora son 9 planetas que conforman el sistema solar\n",
      "-  Mercurio\n",
      "-  Venus\n",
      "-  Tierra\n",
      "-  Marte\n",
      "-  Jupiter\n",
      "-  Saturo\n",
      "-  Urano\n",
      "-  Neptuno\n",
      "-  Pluton\n"
     ]
    }
   ],
   "source": [
    "#Ejercicio1: Crear y usar listas de Python\n",
    "\n",
    "planetas = ['Mercurio','Venus','Tierra','Marte','Jupiter','Saturo','Urano','Neptuno']\n",
    "print(\"A continuacion les mostramos los\",len(planetas),\"planetas que conforman el sistema solar\")\n",
    "for i in planetas: print(\"- \", i)\n",
    "\n",
    "\n",
    "print(\"\\nTienes razon nos hemos olvidado de Pluton\")\n",
    "planetas.append('Pluton')\n",
    "print(\"Ahora son\",len(planetas),\"planetas que conforman el sistema solar\")\n",
    "for i in planetas: print(\"- \",i)\n"
   ]
  },
  {
   "cell_type": "code",
   "execution_count": 28,
   "metadata": {},
   "outputs": [
    {
     "name": "stdout",
     "output_type": "stream",
     "text": [
      "No existe ese planeta en la Base de datos del programa!\n"
     ]
    }
   ],
   "source": [
    "#Ejercicio 2: Trabajando con datos de una lista\n",
    "planets = ['Mercury', 'Venus', 'Earth', 'Mars', 'Jupiter', 'Saturn','Uranus','Neptune','Pluton']\n",
    "user_planet = input(\"Ingresa el nombre de un nuevo planeta 'usa la inicial Mayuscula' :\")\n",
    "error_name = 0\n",
    "try:\n",
    "    position=planets.index(user_planet)\n",
    "except:\n",
    "    error_name=1\n",
    "\n",
    "if error_name !=1 : \n",
    "    print(\"EL planeta\",user_planet,\"se encuentra en la posicion\",position+1)\n",
    "    print(\"\\nEstos son los planetas que estan mas cerca del sol que\", user_planet)\n",
    "    for i in range(position): print(\"- \", planets[i])\n",
    "    print(\"\\nY estos son los planetas mas lejanos \")\n",
    "    for position in range((position+1),len(planets)):print(\"- \", planets[position])\n",
    "else: print(\"No existe ese planeta en la Base de datos del programa!\")\n",
    "\n"
   ]
  },
  {
   "cell_type": "code",
   "execution_count": null,
   "metadata": {},
   "outputs": [],
   "source": []
  }
 ],
 "metadata": {
  "interpreter": {
   "hash": "b321a1742733a3639a8805f7479d4b5f956db4e917dde73bfe936e648e8f64c1"
  },
  "kernelspec": {
   "display_name": "Python 3.10.2 64-bit (windows store)",
   "language": "python",
   "name": "python3"
  },
  "language_info": {
   "codemirror_mode": {
    "name": "ipython",
    "version": 3
   },
   "file_extension": ".py",
   "mimetype": "text/x-python",
   "name": "python",
   "nbconvert_exporter": "python",
   "pygments_lexer": "ipython3",
   "version": "3.10.2"
  },
  "orig_nbformat": 4
 },
 "nbformat": 4,
 "nbformat_minor": 2
}
