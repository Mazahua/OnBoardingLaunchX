{
 "cells": [
  {
   "cell_type": "code",
   "execution_count": 3,
   "metadata": {},
   "outputs": [
    {
     "name": "stdout",
     "output_type": "stream",
     "text": [
      "El Mars tiene 2 lunas\n",
      "El Mars tiene 6752 km de circunferencia\n"
     ]
    }
   ],
   "source": [
    "#Ejercicio 1: Creación de diccionarios de Python\n",
    "#Ejercicio: Crear y modificar un diccionario de Python\n",
    "planet = {\n",
    "    'name' : 'Mars',\n",
    "    'moons' : 2\n",
    "\n",
    "}\n",
    "\n",
    "print(\"El\",planet['name'],\"tiene\",planet['moons'],\"lunas\")\n",
    "\n",
    "planet['Circunferencia (km)'] = {\n",
    "    'polar': 6752,\n",
    "    'equatorial': 6792\n",
    "}\n",
    "\n",
    "\n",
    "print(\"El\",planet['name'],\"tiene\",planet['Circunferencia (km)']['polar'],\"km de circunferencia\")"
   ]
  },
  {
   "cell_type": "code",
   "execution_count": 9,
   "metadata": {},
   "outputs": [
    {
     "name": "stdout",
     "output_type": "stream",
     "text": [
      "El promedio de lunas que tiene cada planeta del sistema solar es de:  18\n"
     ]
    }
   ],
   "source": [
    "#Ejercicio 2: Programación dinámica con diccionarios\n",
    "#Ejercicio: Cálculo de valores\n",
    "\n",
    "# Planets and moons\n",
    "\n",
    "planet_moons = {\n",
    "    'mercury': 0,\n",
    "    'venus': 0,\n",
    "    'earth': 1,\n",
    "    'mars': 2,\n",
    "    'jupiter': 79,\n",
    "    'saturn': 82,\n",
    "    'uranus': 27,\n",
    "    'neptune': 14,\n",
    "    'pluto': 5,\n",
    "    'haumea': 2,\n",
    "    'makemake': 1,\n",
    "    'eris': 1\n",
    "}\n",
    "\n",
    "prom_moon = 0\n",
    "for i in planet_moons: prom_moon += planet_moons[i]\n",
    "prom_moon = prom_moon / len(planet_moons.keys())\n",
    "\n",
    "print(\"El promedio de lunas que tiene cada planeta del sistema solar es de: \",round(prom_moon))\n"
   ]
  },
  {
   "cell_type": "code",
   "execution_count": null,
   "metadata": {},
   "outputs": [],
   "source": []
  }
 ],
 "metadata": {
  "interpreter": {
   "hash": "b321a1742733a3639a8805f7479d4b5f956db4e917dde73bfe936e648e8f64c1"
  },
  "kernelspec": {
   "display_name": "Python 3.10.2 64-bit (windows store)",
   "language": "python",
   "name": "python3"
  },
  "language_info": {
   "codemirror_mode": {
    "name": "ipython",
    "version": 3
   },
   "file_extension": ".py",
   "mimetype": "text/x-python",
   "name": "python",
   "nbconvert_exporter": "python",
   "pygments_lexer": "ipython3",
   "version": "3.10.2"
  },
  "orig_nbformat": 4
 },
 "nbformat": 4,
 "nbformat_minor": 2
}
