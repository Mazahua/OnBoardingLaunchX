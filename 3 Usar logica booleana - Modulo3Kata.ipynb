{
 "cells": [
  {
   "cell_type": "code",
   "execution_count": 8,
   "metadata": {},
   "outputs": [
    {
     "name": "stdout",
     "output_type": "stream",
     "text": [
      "Asteroide acercandose a la tierra sin aparente peligro continue su dia\n"
     ]
    }
   ],
   "source": [
    "#EJERCICIO 1 - ADVERTENCIA DE ASTEROIDE SI VIAJA A 25KM/S\n",
    "vel_ast = 45\n",
    "\n",
    "if vel_ast <= 25: print(\"Alerta peligro peligro!\\n\"*2,\"!Se acerca un asteroide a una muy alta velocidad¡\")\n",
    "else: print(\"Asteroide acercandose a la tierra sin aparente peligro continue su dia\")"
   ]
  },
  {
   "cell_type": "code",
   "execution_count": 18,
   "metadata": {},
   "outputs": [
    {
     "name": "stdout",
     "output_type": "stream",
     "text": [
      "Todo normal el dia de hoy\n"
     ]
    }
   ],
   "source": [
    "#EJERCICIO 2 - RAYO DE LUZ PROVOCADO POR ASTEROIDE SI LA VELOCIDAD ES >= 20KM/S\n",
    "vel_ast = 19\n",
    "\n",
    "if vel_ast >= 20: print(\"¡Atencion! , observen el cielo lograran captar una luz\")\n",
    "else: print(\"Todo normal el dia de hoy\")\n"
   ]
  },
  {
   "cell_type": "code",
   "execution_count": 29,
   "metadata": {},
   "outputs": [
    {
     "name": "stdout",
     "output_type": "stream",
     "text": [
      "¡Atencion! , observen el cielo lograran captar una luz\n"
     ]
    }
   ],
   "source": [
    "#EJERCICIO 3 - AGREGANDO CONDICIONALES AL TAMAÑO Y VELOCIDAD DE ASTEROIDE\n",
    "\n",
    "tam_ast = int(input(\"Ingrese el tamaño del asteroide detectado : \"))\n",
    "vel_ast = int(input(\"Ingresa la velocidad del asteroide en Km/s : \"))\n",
    "\n",
    "if vel_ast >= 25 and tam_ast>25 and tam_ast<1000 : print(\"Alerta peligro peligro!\\n\"*2,\"¡Se acerca un asteroide a una muy alta velocidad!\")\n",
    "elif tam_ast >= 1000 : print(\"Digan sus ultimas palabras, esto es la extincion\\n¡CHOCARA UN MEGA-ASTEROIDE CONTRA LA TIERRA!\")\n",
    "elif vel_ast >= 20: print(\"¡Atencion! , observen el cielo lograran captar una luz\")\n",
    "elif tam_ast<25: print(\"Se acerca meteorito sin peligro se quemara al ingresar a atmosfera\")\n",
    "else: print(\"Todo normal el dia de hoy\")\n"
   ]
  }
 ],
 "metadata": {
  "interpreter": {
   "hash": "b321a1742733a3639a8805f7479d4b5f956db4e917dde73bfe936e648e8f64c1"
  },
  "kernelspec": {
   "display_name": "Python 3.10.2 64-bit (windows store)",
   "language": "python",
   "name": "python3"
  },
  "language_info": {
   "codemirror_mode": {
    "name": "ipython",
    "version": 3
   },
   "file_extension": ".py",
   "mimetype": "text/x-python",
   "name": "python",
   "nbconvert_exporter": "python",
   "pygments_lexer": "ipython3",
   "version": "3.10.2"
  },
  "orig_nbformat": 4
 },
 "nbformat": 4,
 "nbformat_minor": 2
}
