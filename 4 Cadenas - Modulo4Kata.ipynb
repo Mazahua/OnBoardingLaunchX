{
 "cells": [
  {
   "cell_type": "code",
   "execution_count": 1,
   "metadata": {},
   "outputs": [
    {
     "name": "stdout",
     "output_type": "stream",
     "text": [
      "Hay 62 palabras en el texto\n",
      "La oracion contiene un Hecho \n",
      "\n",
      "['Interesting', 'facts', 'about', 'the', 'Moon.', 'The', 'Moon', 'is', \"Earth's\", 'only', 'satellite.', 'There', 'are', 'several', 'interesting', 'facts', 'about', 'the', 'Moon', 'and', 'how', 'it', 'affects', 'life', 'here', 'on', 'Earth.', 'On', 'average,', 'the', 'Moon', 'moves', '4cm', 'away', 'from', 'the', 'Earth', 'every', 'year.', 'This', 'yearly', 'drift', 'is', 'not', 'significant', 'enough', 'to', 'cause', 'immediate', 'effects', 'on', 'Earth.', 'The', 'highest', 'daylight', 'temperature', 'of', 'the', 'Moon', 'is', '127', 'Celsius.']\n",
      "\n",
      "\n",
      "\n",
      "Interesting facts about the Moon. The Moon is Earth's only satellite. There are several interesting facts about the Moon and how it affects life here on Earth. On average, the Moon moves 4cm away from the Earth every year. This yearly drift is not significant enough to cause immediate effects on Earth. The highest daylight temperature of the Moon is 127 Celsius.\n",
      "\n",
      "\n",
      "\n",
      "Interesting facts about the Moon. The Moon is Earth's only satellite. There are several interesting facts about the Moon and how it affects life here on Earth. \n",
      "On average, the Moon moves 4cm away from the Earth every year. This yearly drift is not significant enough to cause immediate effects on Earth. The highest daylight temperature of the Moon is 127 Celsius.\n"
     ]
    }
   ],
   "source": [
    "#EJERCICIO 1 - TRANSFORMAR CADENAS\n",
    "\n",
    "texto = \"\"\"Interesting facts about the Moon. The Moon is Earth's only satellite. There are several interesting facts about the Moon and how it affects life here on Earth. \n",
    "On average, the Moon moves 4cm away from the Earth every year. This yearly drift is not significant enough to cause immediate effects on Earth. The highest daylight temperature of the Moon is 127 C.\"\"\"\n",
    "\n",
    "#dividir el texto\n",
    "\n",
    "cad_tex = texto.split()\n",
    "print(\"Hay\",len(cad_tex),\"palabras en el texto\")\n",
    "\n",
    "#se agregan palabras clave\n",
    "palabras_clave = ['average','temperature','distance']\n",
    "\n",
    "#busca datos importantes de la luna\n",
    "for pal_txt in cad_tex: \n",
    "    for pal_cl in palabras_clave:\n",
    "        if pal_cl == pal_txt: \n",
    "            print(\"La oracion contiene un Hecho \\n\")\n",
    "            break\n",
    "\n",
    "#cambiar C por celsius\n",
    "#Usando ciclo for\n",
    "for i in range(len(cad_tex)):\n",
    "    if cad_tex[i] == 'C.': \n",
    "        cad_tex[i]='Celsius.'\n",
    "print(cad_tex)  # comprobamos el cambio del elemento C a Celsius\n",
    "print(\"\\n\\n\")\n",
    "\n",
    "#probamos imprimir nuevamente el texto pero a base de las cadenas , usando funcion join para crear un string a base de elementos de la cadena \n",
    "cadena_a_str = ' ' # importante colocar el espacio ya que definira lo que hay entre los elementos de la cadena\n",
    "cadena_a_str = cadena_a_str.join(cad_tex)\n",
    "print(cadena_a_str)\n",
    "print(\"\\n\\n\")\n",
    "\n",
    "#usando funcion replace no es necesario realizar un for ya que no hay mas coincidencias en el elemento a buscar C\n",
    "texto = texto.replace(\"C.\",\"Celsius.\")\n",
    "print(texto)"
   ]
  },
  {
   "cell_type": "code",
   "execution_count": 85,
   "metadata": {},
   "outputs": [
    {
     "name": "stdout",
     "output_type": "stream",
     "text": [
      "Gravity Facts about Moon\n",
      "----------------------------------------\n",
      "Planet name : Earth\n",
      "Gravity on Earth : 1.62 m/s2\n",
      "----------------------------------------\n",
      "\n",
      "Gravity Facts about Ganímedes\n",
      "----------------------------------------\n",
      "Planet name : Marte \n",
      "Gravity on Ganímedes : 1.43 m/s2\n",
      "----------------------------------------\n",
      "\n"
     ]
    }
   ],
   "source": [
    "#EJERCICO 2 -  FORMATEANDO CADENAS\n",
    "# Datos con los que vas a trabajar\n",
    "name = \"Moon\"\n",
    "gravity = 0.00162  # in kms\n",
    "planet = \"Earth\"\n",
    "\n",
    "title = 'Gravity Facts about ' + name\n",
    "gravity *= 1000\n",
    "gravity=round(gravity,2) #round para reducir la cantidad de decimales\n",
    "\n",
    "text ='''{title}\n",
    "----------------------------------------\n",
    "Planet name : {planet}\n",
    "Gravity on {name} : {gravity} m/s2\n",
    "----------------------------------------\n",
    "'''\n",
    "print(text.format(title=title, name=planet, planet=planet, gravity=gravity))\n",
    "\n",
    "\n",
    "#nuevos datos\n",
    "planet2 = 'Marte '\n",
    "gravity2 = 0.00143\n",
    "name2 = 'Ganímedes'\n",
    "title2 = 'Gravity Facts about ' + name2\n",
    "\n",
    "print(text.format(title=title2, name=name2, planet=planet2, gravity=round(gravity2*1000,3)))\n"
   ]
  }
 ],
 "metadata": {
  "interpreter": {
   "hash": "b321a1742733a3639a8805f7479d4b5f956db4e917dde73bfe936e648e8f64c1"
  },
  "kernelspec": {
   "display_name": "Python 3.10.2 64-bit (windows store)",
   "language": "python",
   "name": "python3"
  },
  "language_info": {
   "codemirror_mode": {
    "name": "ipython",
    "version": 3
   },
   "file_extension": ".py",
   "mimetype": "text/x-python",
   "name": "python",
   "nbconvert_exporter": "python",
   "pygments_lexer": "ipython3",
   "version": "3.10.2"
  },
  "orig_nbformat": 4
 },
 "nbformat": 4,
 "nbformat_minor": 2
}
