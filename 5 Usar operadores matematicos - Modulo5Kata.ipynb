{
 "cells": [
  {
   "cell_type": "code",
   "execution_count": 15,
   "metadata": {},
   "outputs": [
    {
     "name": "stdout",
     "output_type": "stream",
     "text": [
      "778547200\n",
      " La distancia es 628949330 km\n",
      " La distancia es 390577534 millas\n"
     ]
    }
   ],
   "source": [
    "#EJERCICIO 1 - UTILIZAR OPERADORES MATEMATICOS\n",
    "#creando variables\n",
    "dis_tierra = 149597870\n",
    "dis_jupiter = 778547200\n",
    "\n",
    "#calculando distancia\n",
    "entreplanetas=dis_jupiter-dis_tierra\n",
    "print(\" La distancia es\", entreplanetas, \"km\")\n",
    "\n",
    "#transformando a millas\n",
    "entreplanetas *= 0.621\n",
    "print(\" La distancia es\", round(entreplanetas), \"millas\")\n",
    "\n"
   ]
  },
  {
   "cell_type": "code",
   "execution_count": 21,
   "metadata": {},
   "outputs": [
    {
     "name": "stdout",
     "output_type": "stream",
     "text": [
      "Bienvenido al sistema de medicion\n",
      " La distancia es 4345500000 km\n",
      " La distancia es 2698555500 millas\n"
     ]
    }
   ],
   "source": [
    "#EJERCICIO 2 - CONVIERTE CADENAS EN NUMEROS Y USA VALORES ABSOLUTOS\n",
    "\n",
    "# Almacenar las entradas del usuario\n",
    "print(\"Bienvenido al sistema de medicion\")\n",
    "planet1 = int(input(\"Ingrese la distancia del primer planeta : \"))\n",
    "planet2 = int(input(\"Ingrese la distancia del segundo planeta : \"))\n",
    "\n",
    "#calculando distancia\n",
    "entreplanetas = abs(planet1-planet2)\n",
    "print(\" La distancia es\", entreplanetas, \"km\")\n",
    "#transformando a millas\n",
    "entreplanetas *= 0.621\n",
    "print(\" La distancia es\", round(entreplanetas), \"millas\")\n"
   ]
  },
  {
   "cell_type": "code",
   "execution_count": null,
   "metadata": {},
   "outputs": [],
   "source": []
  },
  {
   "cell_type": "code",
   "execution_count": null,
   "metadata": {},
   "outputs": [],
   "source": []
  }
 ],
 "metadata": {
  "interpreter": {
   "hash": "b321a1742733a3639a8805f7479d4b5f956db4e917dde73bfe936e648e8f64c1"
  },
  "kernelspec": {
   "display_name": "Python 3.10.2 64-bit (windows store)",
   "language": "python",
   "name": "python3"
  },
  "language_info": {
   "codemirror_mode": {
    "name": "ipython",
    "version": 3
   },
   "file_extension": ".py",
   "mimetype": "text/x-python",
   "name": "python",
   "nbconvert_exporter": "python",
   "pygments_lexer": "ipython3",
   "version": "3.10.2"
  },
  "orig_nbformat": 4
 },
 "nbformat": 4,
 "nbformat_minor": 2
}
