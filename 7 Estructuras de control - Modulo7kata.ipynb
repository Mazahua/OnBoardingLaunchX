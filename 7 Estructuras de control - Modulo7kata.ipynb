{
 "cells": [
  {
   "cell_type": "code",
   "execution_count": 1,
   "metadata": {},
   "outputs": [
    {
     "name": "stdout",
     "output_type": "stream",
     "text": [
      "esto es lo que se guardo en planetas :\n",
      "-> al \n",
      "-------------------\n",
      "-> oha \n",
      "-------------------\n",
      "-> wai \n",
      "-------------------\n"
     ]
    }
   ],
   "source": [
    "#Ejercicio 1: Uso de ciclos while en Python\n",
    "planets = []\n",
    "new_planet = ''\n",
    "\n",
    "while new_planet!='done':\n",
    "    if new_planet: planets.append(new_planet)\n",
    "    new_planet = input(\"Ingresa el nombre del planeta: , si quiere salir escriba 'done'\")\n",
    "\n",
    "\n",
    "#Ejercicio2: - Ciclo para una lista\n",
    "print(\"esto es lo que se guardo en planetas : \\n\")\n",
    "for i in planets: print(\"->\",i,\"\\n-------------------\")"
   ]
  },
  {
   "cell_type": "code",
   "execution_count": null,
   "metadata": {},
   "outputs": [],
   "source": []
  }
 ],
 "metadata": {
  "interpreter": {
   "hash": "b321a1742733a3639a8805f7479d4b5f956db4e917dde73bfe936e648e8f64c1"
  },
  "kernelspec": {
   "display_name": "Python 3.10.2 64-bit (windows store)",
   "language": "python",
   "name": "python3"
  },
  "language_info": {
   "codemirror_mode": {
    "name": "ipython",
    "version": 3
   },
   "file_extension": ".py",
   "mimetype": "text/x-python",
   "name": "python",
   "nbconvert_exporter": "python",
   "pygments_lexer": "ipython3",
   "version": "3.10.2"
  },
  "orig_nbformat": 4
 },
 "nbformat": 4,
 "nbformat_minor": 2
}
