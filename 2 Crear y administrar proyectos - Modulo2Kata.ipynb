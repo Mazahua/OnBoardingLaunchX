{
 "cells": [
  {
   "cell_type": "markdown",
   "metadata": {},
   "source": [
    "<h2> Crear un entorno virtual"
   ]
  },
  {
   "cell_type": "code",
   "execution_count": null,
   "metadata": {},
   "outputs": [],
   "source": [
    "python3 -m venv env\n",
    "\n",
    "#en caso de salir mensaje no se encontro python ejecutar lo siguiente python -m venv env\n",
    "# o Instalar la version que te arroje'python3' en consola , te mandara a la microsoft store para instalar la ultima version.\n",
    "\n"
   ]
  },
  {
   "cell_type": "markdown",
   "metadata": {},
   "source": [
    "![](img/powershell-crearentornoenv.PNG)\n",
    "<h6>Se creara una carpeta en tu direccion de trabajo 'env'"
   ]
  },
  {
   "cell_type": "markdown",
   "metadata": {},
   "source": [
    "<h5>Ejecuta el comando para activar el entorno virtual: "
   ]
  },
  {
   "cell_type": "code",
   "execution_count": null,
   "metadata": {},
   "outputs": [],
   "source": [
    "#source env/bin/activate\n",
    "# Windows\n",
    "env\\Scripts\\Activate.ps1\n"
   ]
  },
  {
   "cell_type": "markdown",
   "metadata": {},
   "source": [
    "![](img/ps-activarenv.png)\n",
    "<h6>Ahora ves en tu terminal(env). Eso significa que has activado tu entorno virtual y se ha aislado del resto de tu máquina.\n"
   ]
  },
  {
   "cell_type": "markdown",
   "metadata": {},
   "source": [
    "<h1>Instalar una biblioteca"
   ]
  },
  {
   "cell_type": "code",
   "execution_count": null,
   "metadata": {},
   "outputs": [],
   "source": [
    "#Ejecuta el comando pip freeze para ver las bibliotecas instaladas en tu entorno:\n",
    "pip freeze\n",
    "#no mostrara nada ya que no has instalado aun nada"
   ]
  },
  {
   "cell_type": "code",
   "execution_count": null,
   "metadata": {},
   "outputs": [],
   "source": [
    "#Ejecuta el comando pip install para instalar una biblioteca:\n",
    "#Un gran mensaje de salida de texto dice que está instalando tu biblioteca, y debe terminar con la siguiente oración:\n",
    "\n",
    "pip install python-dateutil"
   ]
  },
  {
   "cell_type": "markdown",
   "metadata": {},
   "source": [
    "![](img/ps-installdateuil.png)"
   ]
  },
  {
   "cell_type": "code",
   "execution_count": null,
   "metadata": {},
   "outputs": [],
   "source": [
    "#Vuelve a ejecutar pip freeze para ver cómo ha cambiado tu lista de bibliotecas:\n",
    "pip freeze\n",
    "\n",
    "#Ahora deberías ver la siguiente lista:\n",
    "#python-dateutil==2.8.2\n",
    "#six==1.16.0"
   ]
  },
  {
   "cell_type": "markdown",
   "metadata": {},
   "source": [
    "![](img/ps-pipfreeze.png)"
   ]
  },
  {
   "cell_type": "markdown",
   "metadata": {},
   "source": [
    "<h2>Desactivar un entorno virtual</h2>\n",
    "<h6>Hasta ahora, has creado un entorno virtual y le has agregado un paquete. Sin embargo, es posible que estés trabajando en varios proyectos de Python y necesites cambiar entre ellos. Para hacer eso, debes salir (desactivar) tu entorno virtual."
   ]
  },
  {
   "cell_type": "code",
   "execution_count": null,
   "metadata": {},
   "outputs": [],
   "source": [
    "deactivate\n",
    "#Observa cómo cambia el mensaje de tu terminal (env) a cómo se veía antes.\n"
   ]
  },
  {
   "cell_type": "markdown",
   "metadata": {},
   "source": [
    "![](img/ps-deactivate.png)"
   ]
  },
  {
   "cell_type": "markdown",
   "metadata": {},
   "source": [
    "<h2>Usar un paquete instalado"
   ]
  },
  {
   "cell_type": "code",
   "execution_count": 2,
   "metadata": {},
   "outputs": [
    {
     "name": "stdout",
     "output_type": "stream",
     "text": [
      "2022-02-10 00:57:25.762338\n",
      "2022-03-17 10:57:25.762338\n"
     ]
    }
   ],
   "source": [
    "from datetime import *\n",
    "from dateutil.relativedelta import *\n",
    "now = datetime.now()\n",
    "print(now)\n",
    "now = now + relativedelta(months=1, weeks=1, hour=10)\n",
    "\n",
    "print(now)"
   ]
  }
 ],
 "metadata": {
  "interpreter": {
   "hash": "e475a33a6c2a3bf39cda16662355f8afa51636fd847eee2c2301069458470811"
  },
  "kernelspec": {
   "display_name": "Python 3.8.3 64-bit",
   "language": "python",
   "name": "python3"
  },
  "language_info": {
   "codemirror_mode": {
    "name": "ipython",
    "version": 3
   },
   "file_extension": ".py",
   "mimetype": "text/x-python",
   "name": "python",
   "nbconvert_exporter": "python",
   "pygments_lexer": "ipython3",
   "version": "3.10.2"
  },
  "orig_nbformat": 4
 },
 "nbformat": 4,
 "nbformat_minor": 2
}
